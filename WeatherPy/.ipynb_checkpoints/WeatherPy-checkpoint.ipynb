{
 "cells": [
  {
   "cell_type": "markdown",
   "metadata": {},
   "source": [
    "# WeatherPy\n",
    "----\n",
    "\n",
    "#### Note\n",
    "* Instructions have been included for each segment. You do not have to follow them exactly, but they are included to help you think through the steps."
   ]
  },
  {
   "cell_type": "code",
   "execution_count": 1,
   "metadata": {
    "scrolled": false
   },
   "outputs": [
    {
     "name": "stdout",
     "output_type": "stream",
     "text": [
      "Requirement already satisfied: citipy in c:\\users\\frank\\anaconda3\\lib\\site-packages (0.0.5)\n",
      "Requirement already satisfied: kdtree>=0.12 in c:\\users\\frank\\anaconda3\\lib\\site-packages (from citipy) (0.16)\n"
     ]
    }
   ],
   "source": [
    "# Dependencies and Setup\n",
    "import matplotlib.pyplot as plt\n",
    "import json\n",
    "import pandas as pd\n",
    "import numpy as np\n",
    "import requests\n",
    "import time\n",
    "from scipy.stats import linregress\n",
    "\n",
    "# Import API key\n",
    "from api_keys import weather_api_key\n",
    "\n",
    "# Incorporated citipy to determine city based on latitude and longitude\n",
    "!pip install citipy\n",
    "from citipy import citipy\n",
    "\n",
    "# Output File (CSV)\n",
    "output_data_file = \"output_data/cities.csv\"\n",
    "\n",
    "# Range of latitudes and longitudes\n",
    "lat_range = (-90, 90)\n",
    "lng_range = (-180, 180)"
   ]
  },
  {
   "cell_type": "markdown",
   "metadata": {},
   "source": [
    "## Generate Cities List"
   ]
  },
  {
   "cell_type": "code",
   "execution_count": 2,
   "metadata": {},
   "outputs": [
    {
     "data": {
      "text/plain": [
       "615"
      ]
     },
     "execution_count": 2,
     "metadata": {},
     "output_type": "execute_result"
    }
   ],
   "source": [
    "# List for holding lat_lngs and cities\n",
    "lat_lngs = []\n",
    "cities = []\n",
    "\n",
    "# Create a set of random lat and lng combinations\n",
    "lats = np.random.uniform(lat_range[0], lat_range[1], size=1500)\n",
    "lngs = np.random.uniform(lng_range[0], lng_range[1], size=1500)\n",
    "lat_lngs = zip(lats, lngs)\n",
    "\n",
    "# Identify nearest city for each lat, lng combination\n",
    "for lat_lng in lat_lngs:\n",
    "    city = citipy.nearest_city(lat_lng[0], lat_lng[1]).city_name\n",
    "    \n",
    "    # If the city is unique, then add it to a our cities list\n",
    "    if city not in cities:\n",
    "        cities.append(city)\n",
    "\n",
    "# Print the city count to confirm sufficient count\n",
    "len(cities)"
   ]
  },
  {
   "cell_type": "markdown",
   "metadata": {},
   "source": [
    "### Perform API Calls\n",
    "* Perform a weather check on each city using a series of successive API calls.\n",
    "* Include a print log of each city as it'sbeing processed (with the city number and city name).\n"
   ]
  },
  {
   "cell_type": "code",
   "execution_count": 3,
   "metadata": {},
   "outputs": [],
   "source": [
    "lond=requests.get('http://api.openweathermap.org/data/2.5/weather?'+'appid='+weather_api_key+'&q=London'+'&units=metric').json()"
   ]
  },
  {
   "cell_type": "code",
   "execution_count": 4,
   "metadata": {},
   "outputs": [
    {
     "data": {
      "text/plain": [
       "{'coord': {'lon': -0.1257, 'lat': 51.5085},\n",
       " 'weather': [{'id': 804,\n",
       "   'main': 'Clouds',\n",
       "   'description': 'overcast clouds',\n",
       "   'icon': '04n'}],\n",
       " 'base': 'stations',\n",
       " 'main': {'temp': 5,\n",
       "  'feels_like': 2.84,\n",
       "  'temp_min': 4.44,\n",
       "  'temp_max': 6,\n",
       "  'pressure': 1028,\n",
       "  'humidity': 81},\n",
       " 'visibility': 10000,\n",
       " 'wind': {'speed': 2.57, 'deg': 50},\n",
       " 'clouds': {'all': 100},\n",
       " 'dt': 1619229803,\n",
       " 'sys': {'type': 1,\n",
       "  'id': 1414,\n",
       "  'country': 'GB',\n",
       "  'sunrise': 1619239535,\n",
       "  'sunset': 1619291479},\n",
       " 'timezone': 3600,\n",
       " 'id': 2643743,\n",
       " 'name': 'London',\n",
       " 'cod': 200}"
      ]
     },
     "execution_count": 4,
     "metadata": {},
     "output_type": "execute_result"
    }
   ],
   "source": [
    "lond"
   ]
  },
  {
   "cell_type": "code",
   "execution_count": 5,
   "metadata": {
    "scrolled": true
   },
   "outputs": [
    {
     "data": {
      "text/plain": [
       "dict_keys(['coord', 'weather', 'base', 'main', 'visibility', 'wind', 'clouds', 'dt', 'sys', 'timezone', 'id', 'name', 'cod'])"
      ]
     },
     "execution_count": 5,
     "metadata": {},
     "output_type": "execute_result"
    }
   ],
   "source": [
    "lond.keys()"
   ]
  },
  {
   "cell_type": "code",
   "execution_count": 6,
   "metadata": {},
   "outputs": [
    {
     "name": "stdout",
     "output_type": "stream",
     "text": [
      "Processing 0, ribeira grande\n",
      "Processing 1, kidal\n",
      "city not found\n",
      "Processing 3, dmanisi\n",
      "Processing 4, asau\n",
      "city not found\n",
      "Processing 6, yellowknife\n",
      "Processing 7, rikitea\n",
      "Processing 8, georgetown\n",
      "Processing 9, balagansk\n",
      "Processing 10, si sa ket\n",
      "Processing 11, tasiilaq\n",
      "Processing 12, busselton\n",
      "Processing 13, hermanus\n",
      "city not found\n",
      "Processing 15, barra do garcas\n",
      "Processing 16, ushuaia\n",
      "Processing 17, richards bay\n",
      "Processing 18, port elizabeth\n",
      "Processing 19, pangnirtung\n",
      "Processing 20, faya\n",
      "Processing 21, mataura\n",
      "city not found\n",
      "Processing 23, buin\n",
      "Processing 24, upernavik\n",
      "Processing 25, chuy\n",
      "Processing 26, sao filipe\n",
      "Processing 27, atuona\n",
      "Processing 28, christchurch\n",
      "Processing 29, naze\n",
      "Processing 30, bluff\n",
      "Processing 31, coral springs\n",
      "Processing 32, nabire\n",
      "Processing 33, santa isabel do rio negro\n",
      "city not found\n",
      "Processing 35, dikson\n",
      "Processing 36, cape town\n",
      "Processing 37, punta arenas\n",
      "Processing 38, sumisip\n",
      "Processing 39, lima\n",
      "Processing 40, klaksvik\n",
      "Processing 41, hami\n",
      "Processing 42, castro\n",
      "Processing 43, port alfred\n",
      "city not found\n",
      "Processing 45, souillac\n",
      "Processing 46, port lincoln\n",
      "Processing 47, kem\n",
      "Processing 48, parauna\n",
      "Processing 49, coquimbo\n",
      "Processing 50, new norfolk\n",
      "Processing 51, alice springs\n",
      "Processing 52, saint-philippe\n",
      "Processing 53, nelson bay\n",
      "Processing 54, biak\n",
      "Processing 55, almaznyy\n",
      "Processing 56, tuktoyaktuk\n",
      "Processing 57, tiksi\n",
      "Processing 58, lebu\n",
      "Processing 59, mglin\n",
      "Processing 60, carnarvon\n",
      "Processing 61, mmathubudukwane\n",
      "Processing 62, pasighat\n",
      "Processing 63, tutoia\n",
      "Processing 64, albany\n",
      "city not found\n",
      "Processing 66, katsuura\n",
      "Processing 67, mar del plata\n",
      "Processing 68, west bay\n",
      "city not found\n",
      "Processing 70, palmer\n",
      "Processing 71, deputatskiy\n",
      "Processing 72, tabuk\n",
      "Processing 73, tabou\n",
      "Processing 74, grand gaube\n",
      "Processing 75, ola\n",
      "Processing 76, barrow\n",
      "Processing 77, ilheus\n",
      "Processing 78, talnakh\n",
      "Processing 79, vaini\n",
      "Processing 80, kapaa\n",
      "city not found\n",
      "city not found\n",
      "Processing 83, touros\n",
      "Processing 84, avarua\n",
      "Processing 85, kaitangata\n",
      "Processing 86, muros\n",
      "Processing 87, zhigansk\n",
      "Processing 88, tual\n",
      "Processing 89, tyazhinskiy\n",
      "Processing 90, todos santos\n",
      "Processing 91, camana\n",
      "Processing 92, bredasdorp\n",
      "Processing 93, bulgan\n",
      "Processing 94, shimoda\n",
      "Processing 95, charters towers\n",
      "Processing 96, east london\n",
      "Processing 97, bereda\n",
      "Processing 98, coihaique\n",
      "Processing 99, bethel\n",
      "Processing 100, anadyr\n",
      "Processing 101, oriximina\n",
      "Processing 102, neustadt\n",
      "Processing 103, tondano\n",
      "Processing 104, nikolskoye\n",
      "Processing 105, cidreira\n",
      "Processing 106, kroya\n",
      "Processing 107, aksu\n",
      "Processing 108, puerto ayora\n",
      "Processing 109, tecolutla\n",
      "city not found\n",
      "Processing 111, longyearbyen\n",
      "Processing 112, leshukonskoye\n",
      "Processing 113, lubango\n",
      "Processing 114, hilo\n",
      "Processing 115, kolvereid\n",
      "Processing 116, ahipara\n",
      "Processing 117, thompson\n",
      "Processing 118, bambanglipuro\n",
      "Processing 119, pisco\n",
      "city not found\n",
      "Processing 121, hithadhoo\n",
      "Processing 122, santa cruz de la palma\n",
      "Processing 123, saint-paul\n",
      "Processing 124, ust-nera\n",
      "Processing 125, vila do maio\n",
      "Processing 126, ust-barguzin\n",
      "Processing 127, kodiak\n",
      "Processing 128, namwala\n",
      "Processing 129, camacha\n",
      "Processing 130, qaanaaq\n",
      "city not found\n",
      "Processing 132, chapleau\n",
      "Processing 133, wucheng\n",
      "Processing 134, rocha\n",
      "Processing 135, kushiro\n",
      "Processing 136, hofn\n",
      "Processing 137, maltahohe\n",
      "Processing 138, saskylakh\n",
      "Processing 139, saint george\n",
      "Processing 140, airai\n",
      "Processing 141, hanover\n",
      "Processing 142, vilyuysk\n",
      "Processing 143, skibbereen\n",
      "Processing 144, kruisfontein\n",
      "Processing 145, presidencia roque saenz pena\n",
      "Processing 146, concordia\n",
      "Processing 147, hobart\n",
      "Processing 148, jamestown\n",
      "city not found\n",
      "city not found\n",
      "Processing 151, kasiri\n",
      "Processing 152, codrington\n",
      "Processing 153, aden\n",
      "Processing 154, borgarnes\n",
      "Processing 155, iskateley\n",
      "city not found\n",
      "Processing 157, caravelas\n",
      "Processing 158, dongsheng\n",
      "Processing 159, yantal\n",
      "Processing 160, freetown\n",
      "Processing 161, oistins\n",
      "Processing 162, marzuq\n",
      "Processing 163, oranjestad\n",
      "Processing 164, sambava\n",
      "Processing 165, houma\n",
      "city not found\n",
      "Processing 167, sorland\n",
      "Processing 168, lasa\n",
      "Processing 169, boguchany\n",
      "Processing 170, port blair\n",
      "Processing 171, zhanaozen\n",
      "Processing 172, liverpool\n",
      "Processing 173, karratha\n",
      "Processing 174, ewa beach\n",
      "Processing 175, santiago\n",
      "Processing 176, sakakah\n",
      "Processing 177, flin flon\n",
      "Processing 178, lavrentiya\n",
      "Processing 179, bengkulu\n",
      "Processing 180, cookeville\n",
      "Processing 181, gat\n",
      "Processing 182, geraldton\n",
      "Processing 183, strezhevoy\n",
      "Processing 184, puerto madryn\n",
      "Processing 185, spassk-ryazanskiy\n",
      "Processing 186, poddorye\n",
      "Processing 187, khatanga\n",
      "Processing 188, ponta do sol\n",
      "Processing 189, goderich\n",
      "Processing 190, batemans bay\n",
      "Processing 191, butaritari\n",
      "Processing 192, douentza\n",
      "Processing 193, cabo san lucas\n",
      "Processing 194, baruun-urt\n",
      "Processing 195, lorengau\n",
      "Processing 196, leningradskiy\n",
      "Processing 197, mayo\n",
      "Processing 198, chokurdakh\n",
      "city not found\n",
      "Processing 200, bathsheba\n",
      "Processing 201, sexsmith\n",
      "Processing 202, dwarka\n",
      "Processing 203, hamilton\n",
      "Processing 204, vigia del fuerte\n",
      "Processing 205, okhotsk\n",
      "Processing 206, krasnoborsk\n",
      "Processing 207, hovd\n",
      "Processing 208, kikwit\n",
      "Processing 209, buraydah\n",
      "Processing 210, matara\n",
      "Processing 211, san cristobal\n",
      "Processing 212, umm lajj\n",
      "Processing 213, san jeronimo\n",
      "Processing 214, changying\n",
      "Processing 215, provideniya\n",
      "city not found\n",
      "Processing 217, palu\n",
      "Processing 218, maniitsoq\n",
      "Processing 219, berndorf\n",
      "city not found\n",
      "Processing 221, berlevag\n",
      "Processing 222, yenotayevka\n",
      "Processing 223, tanga\n",
      "Processing 224, villa carlos paz\n",
      "Processing 225, saint-pierre\n",
      "Processing 226, yaroslavskaya\n",
      "Processing 227, junin\n",
      "Processing 228, vestmannaeyjar\n",
      "Processing 229, butka\n",
      "Processing 230, esperance\n",
      "Processing 231, baykalovo\n",
      "Processing 232, arraial do cabo\n",
      "Processing 233, royan\n",
      "Processing 234, dzialdowo\n",
      "Processing 235, mahebourg\n",
      "Processing 236, stromness\n",
      "Processing 237, madang\n",
      "Processing 238, bud\n",
      "Processing 239, torbay\n",
      "city not found\n",
      "Processing 241, puerto lopez\n",
      "Processing 242, bull savanna\n",
      "Processing 243, leh\n",
      "Processing 244, guerrero negro\n",
      "Processing 245, otjiwarongo\n",
      "Processing 246, beloha\n",
      "city not found\n",
      "Processing 248, pecos\n",
      "Processing 249, mayumba\n",
      "Processing 250, livingston\n",
      "Processing 251, jiazi\n",
      "Processing 252, carutapera\n",
      "city not found\n",
      "Processing 254, ancud\n",
      "Processing 255, macuspana\n",
      "Processing 256, te anau\n",
      "Processing 257, fonte boa\n",
      "Processing 258, pangody\n",
      "Processing 259, sterling\n",
      "city not found\n",
      "Processing 261, los llanos de aridane\n",
      "Processing 262, caborca\n",
      "Processing 263, aksarka\n",
      "Processing 264, teya\n",
      "Processing 265, bageshwar\n",
      "Processing 266, sistranda\n",
      "Processing 267, turukhansk\n",
      "Processing 268, lagoa\n",
      "Processing 269, ballangen\n",
      "Processing 270, dembi dolo\n",
      "Processing 271, kavieng\n",
      "Processing 272, pevek\n",
      "Processing 273, chulym\n",
      "Processing 274, billings\n",
      "Processing 275, nanga eboko\n",
      "Processing 276, salalah\n",
      "Processing 277, adrar\n",
      "Processing 278, yumen\n",
      "Processing 279, cururupu\n",
      "Processing 280, safranbolu\n",
      "Processing 281, vallenar\n",
      "Processing 282, half moon bay\n",
      "Processing 283, yima\n",
      "Processing 284, osmena\n",
      "Processing 285, kattivakkam\n",
      "Processing 286, noumea\n",
      "Processing 287, karpathos\n",
      "Processing 288, hasaki\n",
      "Processing 289, fortuna\n",
      "Processing 290, akyab\n",
      "Processing 291, miri\n",
      "city not found\n",
      "Processing 293, batticaloa\n",
      "Processing 294, filadelfia\n",
      "city not found\n",
      "Processing 296, krutinka\n",
      "Processing 297, huarmey\n",
      "Processing 298, prince rupert\n",
      "Processing 299, the valley\n",
      "Processing 300, samarai\n",
      "Processing 301, saldanha\n",
      "Processing 302, ocoyoacac\n",
      "Processing 303, saravan\n",
      "Processing 304, gorontalo\n",
      "Processing 305, rosarito\n",
      "Processing 306, hervey bay\n",
      "Processing 307, lompoc\n",
      "Processing 308, port hardy\n",
      "city not found\n",
      "Processing 310, nosy varika\n",
      "Processing 311, koslan\n",
      "Processing 312, malanje\n",
      "Processing 313, linxia\n",
      "Processing 314, pekalongan\n",
      "Processing 315, kavaratti\n",
      "city not found\n",
      "Processing 317, pedernales\n",
      "city not found\n",
      "Processing 319, shebalino\n",
      "Processing 320, singaraja\n",
      "Processing 321, victoria\n",
      "Processing 322, ozernovskiy\n",
      "Processing 323, faanui\n",
      "Processing 324, havoysund\n",
      "Processing 325, chimbote\n",
      "Processing 326, yulara\n",
      "Processing 327, nyurba\n",
      "city not found\n",
      "Processing 329, ilulissat\n",
      "Processing 330, saint-francois\n",
      "Processing 331, suzhou\n",
      "Processing 332, awbari\n",
      "Processing 333, shache\n",
      "Processing 334, obo\n",
      "Processing 335, avera\n",
      "Processing 336, morro bay\n",
      "Processing 337, northam\n",
      "Processing 338, odienne\n"
     ]
    },
    {
     "name": "stdout",
     "output_type": "stream",
     "text": [
      "Processing 339, teguise\n",
      "Processing 340, nhulunbuy\n",
      "Processing 341, wynyard\n",
      "Processing 342, spalding\n",
      "Processing 343, ossora\n",
      "Processing 344, flinders\n",
      "Processing 345, norman wells\n",
      "Processing 346, ambunti\n",
      "Processing 347, shiyan\n",
      "Processing 348, fos-sur-mer\n",
      "Processing 349, ndioum\n",
      "Processing 350, nueva italia de ruiz\n",
      "Processing 351, inhambane\n",
      "Processing 352, kloulklubed\n",
      "Processing 353, nanakuli\n",
      "Processing 354, kieta\n",
      "Processing 355, japura\n",
      "Processing 356, agapovka\n",
      "Processing 357, chaozhou\n",
      "Processing 358, serenje\n",
      "Processing 359, bonavista\n",
      "Processing 360, erzin\n",
      "Processing 361, san quintin\n",
      "Processing 362, onega\n",
      "Processing 363, san luis\n",
      "Processing 364, oro valley\n",
      "Processing 365, ostrovnoy\n",
      "Processing 366, lere\n",
      "Processing 367, puerto leguizamo\n",
      "Processing 368, kautokeino\n",
      "Processing 369, necochea\n",
      "Processing 370, cherskiy\n",
      "Processing 371, kaeo\n",
      "Processing 372, yunyang\n",
      "Processing 373, ulladulla\n",
      "Processing 374, bambous virieux\n",
      "Processing 375, eyl\n",
      "city not found\n",
      "Processing 377, shelby\n",
      "Processing 378, vrangel\n",
      "Processing 379, porto murtinho\n",
      "Processing 380, praia\n",
      "Processing 381, megion\n",
      "Processing 382, severo-kurilsk\n",
      "city not found\n",
      "Processing 384, sungaipenuh\n",
      "Processing 385, clyde river\n",
      "Processing 386, mongua\n",
      "Processing 387, gigmoto\n",
      "Processing 388, anuradhapura\n",
      "Processing 389, holland\n",
      "Processing 390, batangafo\n",
      "Processing 391, matagami\n",
      "Processing 392, baiyin\n",
      "Processing 393, stavern\n",
      "Processing 394, ambon\n",
      "Processing 395, lobito\n",
      "Processing 396, nizwa\n",
      "Processing 397, kudahuvadhoo\n",
      "Processing 398, nakamura\n",
      "Processing 399, panzhihua\n",
      "Processing 400, colares\n",
      "Processing 401, ballsh\n",
      "city not found\n",
      "Processing 403, odweyne\n",
      "Processing 404, launceston\n",
      "Processing 405, baykit\n",
      "Processing 406, brawley\n",
      "Processing 407, shirokaya rechka\n",
      "Processing 408, taybad\n",
      "Processing 409, cabra\n",
      "city not found\n",
      "city not found\n",
      "Processing 412, dunedin\n",
      "Processing 413, tenenkou\n",
      "Processing 414, lohja\n",
      "Processing 415, kashary\n",
      "Processing 416, mount gambier\n",
      "Processing 417, pacific grove\n",
      "Processing 418, reyes\n",
      "Processing 419, manicore\n",
      "Processing 420, roebourne\n",
      "Processing 421, tromso\n",
      "city not found\n",
      "city not found\n",
      "Processing 424, rundu\n",
      "Processing 425, monte carmelo\n",
      "Processing 426, takoradi\n",
      "Processing 427, piacabucu\n",
      "Processing 428, parker\n",
      "Processing 429, maningrida\n",
      "city not found\n",
      "Processing 431, voi\n",
      "Processing 432, russell\n",
      "Processing 433, ascension\n",
      "Processing 434, boa vista\n",
      "Processing 435, rio grande\n",
      "Processing 436, winslow\n",
      "Processing 437, sakete\n",
      "Processing 438, ures\n",
      "Processing 439, nemuro\n",
      "Processing 440, dalvik\n",
      "Processing 441, tamsweg\n",
      "Processing 442, sitka\n",
      "Processing 443, antofagasta\n",
      "Processing 444, mbuji-mayi\n",
      "Processing 445, barcelos\n",
      "Processing 446, lishu\n",
      "Processing 447, sibolga\n",
      "Processing 448, sokolo\n",
      "Processing 449, bradford\n",
      "Processing 450, calama\n",
      "Processing 451, bafq\n",
      "Processing 452, acopiara\n",
      "Processing 453, trogir\n",
      "Processing 454, salina\n",
      "Processing 455, harpanahalli\n",
      "Processing 456, san patricio\n",
      "Processing 457, asbestovskiy\n",
      "city not found\n",
      "Processing 459, bluefields\n",
      "Processing 460, trairi\n",
      "Processing 461, tuatapere\n",
      "Processing 462, bitkine\n",
      "Processing 463, rorvik\n",
      "Processing 464, puerto escondido\n",
      "Processing 465, road town\n",
      "Processing 466, sao jose da coroa grande\n",
      "Processing 467, meulaboh\n",
      "Processing 468, narsaq\n",
      "Processing 469, aleksandrov gay\n",
      "Processing 470, bangassou\n",
      "city not found\n",
      "Processing 472, sisimiut\n",
      "Processing 473, klyuchi\n",
      "Processing 474, lanigan\n",
      "Processing 475, kyabe\n",
      "Processing 476, nouadhibou\n",
      "Processing 477, moyale\n",
      "Processing 478, frutal\n",
      "Processing 479, stendal\n",
      "city not found\n",
      "Processing 481, kalur kot\n",
      "Processing 482, whitehorse\n",
      "Processing 483, luderitz\n",
      "Processing 484, isangel\n",
      "Processing 485, ruidoso\n",
      "Processing 486, buala\n",
      "Processing 487, evanston\n",
      "Processing 488, ongandjera\n",
      "Processing 489, plettenberg bay\n",
      "Processing 490, raga\n",
      "Processing 491, porbandar\n",
      "Processing 492, promyshlennyy\n",
      "Processing 493, vila velha\n",
      "Processing 494, sarakhs\n",
      "Processing 495, afsin\n",
      "Processing 496, vila franca do campo\n",
      "Processing 497, cayenne\n",
      "Processing 498, baracoa\n",
      "Processing 499, makakilo city\n",
      "Processing 500, ambilobe\n",
      "Processing 501, taksimo\n",
      "Processing 502, rieti\n",
      "Processing 503, williams lake\n",
      "Processing 504, krasnoshchekovo\n",
      "Processing 505, muroto\n",
      "Processing 506, nuuk\n",
      "Processing 507, guanica\n",
      "Processing 508, kon tum\n",
      "Processing 509, sur\n",
      "Processing 510, bandarbeyla\n",
      "Processing 511, portland\n",
      "city not found\n",
      "Processing 513, port hedland\n",
      "city not found\n",
      "Processing 515, khakhea\n",
      "Processing 516, puerto madero\n",
      "Processing 517, bonga\n",
      "Processing 518, taltal\n",
      "Processing 519, mathathane\n",
      "Processing 520, comodoro rivadavia\n",
      "Processing 521, svetlaya\n",
      "Processing 522, raudeberg\n",
      "Processing 523, iralaya\n",
      "Processing 524, acapulco\n",
      "Processing 525, lloydminster\n",
      "Processing 526, creel\n",
      "Processing 527, gemena\n",
      "Processing 528, chara\n",
      "Processing 529, sheboygan\n",
      "city not found\n",
      "Processing 531, westport\n",
      "city not found\n",
      "Processing 533, shagonar\n",
      "city not found\n",
      "Processing 535, cockburn town\n",
      "Processing 536, awash\n",
      "city not found\n",
      "Processing 538, camapua\n",
      "Processing 539, naryan-mar\n",
      "Processing 540, novaya zaimka\n",
      "Processing 541, baicheng\n",
      "Processing 542, outjo\n",
      "Processing 543, korla\n",
      "Processing 544, rio cuarto\n",
      "Processing 545, vostok\n",
      "Processing 546, tautira\n",
      "Processing 547, wana\n",
      "Processing 548, male\n",
      "Processing 549, gannan\n",
      "Processing 550, oksfjord\n",
      "Processing 551, salinopolis\n",
      "Processing 552, broken hill\n",
      "Processing 553, tura\n",
      "Processing 554, gravelbourg\n",
      "Processing 555, uige\n",
      "Processing 556, vanavara\n",
      "Processing 557, ocosingo\n",
      "Processing 558, ritchie\n",
      "Processing 559, saint anthony\n",
      "Processing 560, merauke\n",
      "Processing 561, constitucion\n",
      "Processing 562, taoudenni\n",
      "Processing 563, paamiut\n",
      "Processing 564, hastings\n",
      "Processing 565, namatanai\n",
      "Processing 566, matamoros\n",
      "Processing 567, cagliari\n",
      "Processing 568, bilma\n",
      "Processing 569, pozo colorado\n",
      "Processing 570, marystown\n",
      "Processing 571, joetsu\n",
      "Processing 572, marawi\n",
      "Processing 573, puerto colombia\n",
      "Processing 574, ponot\n",
      "Processing 575, coahuayana\n",
      "Processing 576, kaliua\n",
      "Processing 577, rio gallegos\n",
      "Processing 578, manta\n",
      "Processing 579, uruzgan\n",
      "Processing 580, nicoya\n",
      "Processing 581, yar-sale\n",
      "Processing 582, kundiawa\n",
      "Processing 583, buchanan\n",
      "Processing 584, voyvozh\n",
      "Processing 585, mocuba\n",
      "Processing 586, tawang\n",
      "Processing 587, mao\n",
      "city not found\n",
      "city not found\n",
      "Processing 590, vyshchetarasivka\n",
      "city not found\n",
      "Processing 592, casino\n",
      "Processing 593, cedar city\n",
      "Processing 594, grindavik\n",
      "Processing 595, alofi\n",
      "Processing 596, kahului\n",
      "Processing 597, whyalla\n",
      "Processing 598, andenes\n",
      "Processing 599, saint-georges\n",
      "Processing 600, kupang\n",
      "Processing 601, pedro juan caballero\n",
      "Processing 602, weinan\n",
      "Processing 603, tokmak\n",
      "Processing 604, turtas\n",
      "Processing 605, mwense\n",
      "Processing 606, kandrian\n",
      "Processing 607, saint augustine\n",
      "Processing 608, dhemaji\n",
      "Processing 609, salta\n",
      "Processing 610, morant bay\n",
      "Processing 611, sidi ali\n",
      "Processing 612, shaunavon\n",
      "Processing 613, atar\n",
      "Processing 614, methven\n"
     ]
    }
   ],
   "source": [
    "base_url='http://api.openweathermap.org/data/2.5/weather?'+'appid='+weather_api_key+'&units=metric'+'&q='\n",
    "\n",
    "columns=['City', 'Lat', 'Lng', 'Max_Temp', 'Humidity', 'Cloudiness', 'Wind_Speed', 'Country', 'Date']\n",
    "\n",
    "wcity_name=[]\n",
    "wcod_lat=[]\n",
    "wcod_lon=[]\n",
    "wmax_temp=[]\n",
    "whumidity=[]\n",
    "wclouds=[]\n",
    "wwinds=[]\n",
    "wcountry=[]\n",
    "wdate=[]\n",
    "\n",
    "for city in cities:\n",
    "    try :\n",
    "        response=requests.get(base_url+city).json()\n",
    "        wcity_name.append(response['name'])\n",
    "        wcod_lat.append(response['coord']['lat'])\n",
    "        wcod_lon.append(response['coord']['lon'])\n",
    "        wmax_temp.append(response['main']['temp_max'])\n",
    "        whumidity.append(response['main']['humidity'])\n",
    "        wclouds.append(response['clouds']['all'])\n",
    "        wwinds.append(response['wind']['speed'])\n",
    "        wcountry.append(response['sys']['country'])\n",
    "        wdate.append(response['dt'])\n",
    "        \n",
    "        print(f'Processing {cities.index(city)}, {city}')\n",
    "    except: \n",
    "        print(\"city not found\")\n",
    "\n",
    "\n",
    "df=pd.DataFrame(zip(wcity_name,wcod_lat,wcod_lon,\n",
    "                                 wmax_temp,whumidity,wclouds,wwinds,wcountry,wdate),columns=columns)\n",
    "\n"
   ]
  },
  {
   "cell_type": "code",
   "execution_count": 7,
   "metadata": {},
   "outputs": [],
   "source": [
    "df.to_csv('city_weather.csv')"
   ]
  },
  {
   "cell_type": "markdown",
   "metadata": {},
   "source": [
    "### Convert Raw Data to DataFrame\n",
    "* Export the city data into a .csv.\n",
    "* Display the DataFrame"
   ]
  },
  {
   "cell_type": "code",
   "execution_count": 8,
   "metadata": {},
   "outputs": [
    {
     "data": {
      "text/html": [
       "<div>\n",
       "<style scoped>\n",
       "    .dataframe tbody tr th:only-of-type {\n",
       "        vertical-align: middle;\n",
       "    }\n",
       "\n",
       "    .dataframe tbody tr th {\n",
       "        vertical-align: top;\n",
       "    }\n",
       "\n",
       "    .dataframe thead th {\n",
       "        text-align: right;\n",
       "    }\n",
       "</style>\n",
       "<table border=\"1\" class=\"dataframe\">\n",
       "  <thead>\n",
       "    <tr style=\"text-align: right;\">\n",
       "      <th></th>\n",
       "      <th>City</th>\n",
       "      <th>Lat</th>\n",
       "      <th>Lng</th>\n",
       "      <th>Max_Temp</th>\n",
       "      <th>Humidity</th>\n",
       "      <th>Cloudiness</th>\n",
       "      <th>Wind_Speed</th>\n",
       "      <th>Country</th>\n",
       "      <th>Date</th>\n",
       "    </tr>\n",
       "  </thead>\n",
       "  <tbody>\n",
       "    <tr>\n",
       "      <th>0</th>\n",
       "      <td>Ribeira Grande</td>\n",
       "      <td>38.5167</td>\n",
       "      <td>-28.7000</td>\n",
       "      <td>14.80</td>\n",
       "      <td>78</td>\n",
       "      <td>99</td>\n",
       "      <td>12.85</td>\n",
       "      <td>PT</td>\n",
       "      <td>1619230113</td>\n",
       "    </tr>\n",
       "    <tr>\n",
       "      <th>1</th>\n",
       "      <td>Kidal</td>\n",
       "      <td>18.4411</td>\n",
       "      <td>1.4078</td>\n",
       "      <td>28.90</td>\n",
       "      <td>8</td>\n",
       "      <td>0</td>\n",
       "      <td>4.09</td>\n",
       "      <td>ML</td>\n",
       "      <td>1619230114</td>\n",
       "    </tr>\n",
       "    <tr>\n",
       "      <th>2</th>\n",
       "      <td>Jvara</td>\n",
       "      <td>41.5251</td>\n",
       "      <td>44.3472</td>\n",
       "      <td>12.00</td>\n",
       "      <td>87</td>\n",
       "      <td>90</td>\n",
       "      <td>2.06</td>\n",
       "      <td>GE</td>\n",
       "      <td>1619230114</td>\n",
       "    </tr>\n",
       "    <tr>\n",
       "      <th>3</th>\n",
       "      <td>Asău</td>\n",
       "      <td>46.4333</td>\n",
       "      <td>26.4000</td>\n",
       "      <td>2.22</td>\n",
       "      <td>65</td>\n",
       "      <td>63</td>\n",
       "      <td>1.69</td>\n",
       "      <td>RO</td>\n",
       "      <td>1619230012</td>\n",
       "    </tr>\n",
       "    <tr>\n",
       "      <th>4</th>\n",
       "      <td>Yellowknife</td>\n",
       "      <td>62.4560</td>\n",
       "      <td>-114.3525</td>\n",
       "      <td>-8.89</td>\n",
       "      <td>57</td>\n",
       "      <td>75</td>\n",
       "      <td>4.12</td>\n",
       "      <td>CA</td>\n",
       "      <td>1619230104</td>\n",
       "    </tr>\n",
       "  </tbody>\n",
       "</table>\n",
       "</div>"
      ],
      "text/plain": [
       "             City      Lat       Lng  Max_Temp  Humidity  Cloudiness  \\\n",
       "0  Ribeira Grande  38.5167  -28.7000     14.80        78          99   \n",
       "1           Kidal  18.4411    1.4078     28.90         8           0   \n",
       "2           Jvara  41.5251   44.3472     12.00        87          90   \n",
       "3            Asău  46.4333   26.4000      2.22        65          63   \n",
       "4     Yellowknife  62.4560 -114.3525     -8.89        57          75   \n",
       "\n",
       "   Wind_Speed Country        Date  \n",
       "0       12.85      PT  1619230113  \n",
       "1        4.09      ML  1619230114  \n",
       "2        2.06      GE  1619230114  \n",
       "3        1.69      RO  1619230012  \n",
       "4        4.12      CA  1619230104  "
      ]
     },
     "execution_count": 8,
     "metadata": {},
     "output_type": "execute_result"
    }
   ],
   "source": [
    "df.head()"
   ]
  },
  {
   "cell_type": "code",
   "execution_count": 9,
   "metadata": {},
   "outputs": [
    {
     "data": {
      "text/html": [
       "<div>\n",
       "<style scoped>\n",
       "    .dataframe tbody tr th:only-of-type {\n",
       "        vertical-align: middle;\n",
       "    }\n",
       "\n",
       "    .dataframe tbody tr th {\n",
       "        vertical-align: top;\n",
       "    }\n",
       "\n",
       "    .dataframe thead th {\n",
       "        text-align: right;\n",
       "    }\n",
       "</style>\n",
       "<table border=\"1\" class=\"dataframe\">\n",
       "  <thead>\n",
       "    <tr style=\"text-align: right;\">\n",
       "      <th></th>\n",
       "      <th>Lat</th>\n",
       "      <th>Lng</th>\n",
       "      <th>Max_Temp</th>\n",
       "      <th>Humidity</th>\n",
       "      <th>Cloudiness</th>\n",
       "      <th>Wind_Speed</th>\n",
       "      <th>Date</th>\n",
       "    </tr>\n",
       "  </thead>\n",
       "  <tbody>\n",
       "    <tr>\n",
       "      <th>count</th>\n",
       "      <td>565.000000</td>\n",
       "      <td>565.000000</td>\n",
       "      <td>565.000000</td>\n",
       "      <td>565.000000</td>\n",
       "      <td>565.000000</td>\n",
       "      <td>565.000000</td>\n",
       "      <td>5.650000e+02</td>\n",
       "    </tr>\n",
       "    <tr>\n",
       "      <th>mean</th>\n",
       "      <td>18.945668</td>\n",
       "      <td>16.186804</td>\n",
       "      <td>15.689646</td>\n",
       "      <td>69.115044</td>\n",
       "      <td>53.440708</td>\n",
       "      <td>3.303611</td>\n",
       "      <td>1.619230e+09</td>\n",
       "    </tr>\n",
       "    <tr>\n",
       "      <th>std</th>\n",
       "      <td>33.441772</td>\n",
       "      <td>88.857659</td>\n",
       "      <td>10.222486</td>\n",
       "      <td>22.584888</td>\n",
       "      <td>40.102998</td>\n",
       "      <td>2.262509</td>\n",
       "      <td>1.209943e+02</td>\n",
       "    </tr>\n",
       "    <tr>\n",
       "      <th>min</th>\n",
       "      <td>-54.800000</td>\n",
       "      <td>-175.200000</td>\n",
       "      <td>-12.290000</td>\n",
       "      <td>4.000000</td>\n",
       "      <td>0.000000</td>\n",
       "      <td>0.050000</td>\n",
       "      <td>1.619229e+09</td>\n",
       "    </tr>\n",
       "    <tr>\n",
       "      <th>25%</th>\n",
       "      <td>-8.112000</td>\n",
       "      <td>-65.019200</td>\n",
       "      <td>8.000000</td>\n",
       "      <td>58.000000</td>\n",
       "      <td>8.000000</td>\n",
       "      <td>1.640000</td>\n",
       "      <td>1.619230e+09</td>\n",
       "    </tr>\n",
       "    <tr>\n",
       "      <th>50%</th>\n",
       "      <td>21.346900</td>\n",
       "      <td>18.944900</td>\n",
       "      <td>16.730000</td>\n",
       "      <td>75.000000</td>\n",
       "      <td>63.000000</td>\n",
       "      <td>2.770000</td>\n",
       "      <td>1.619230e+09</td>\n",
       "    </tr>\n",
       "    <tr>\n",
       "      <th>75%</th>\n",
       "      <td>47.128100</td>\n",
       "      <td>92.900000</td>\n",
       "      <td>25.000000</td>\n",
       "      <td>87.000000</td>\n",
       "      <td>96.000000</td>\n",
       "      <td>4.340000</td>\n",
       "      <td>1.619230e+09</td>\n",
       "    </tr>\n",
       "    <tr>\n",
       "      <th>max</th>\n",
       "      <td>78.218600</td>\n",
       "      <td>178.416700</td>\n",
       "      <td>33.000000</td>\n",
       "      <td>100.000000</td>\n",
       "      <td>100.000000</td>\n",
       "      <td>14.630000</td>\n",
       "      <td>1.619230e+09</td>\n",
       "    </tr>\n",
       "  </tbody>\n",
       "</table>\n",
       "</div>"
      ],
      "text/plain": [
       "              Lat         Lng    Max_Temp    Humidity  Cloudiness  Wind_Speed  \\\n",
       "count  565.000000  565.000000  565.000000  565.000000  565.000000  565.000000   \n",
       "mean    18.945668   16.186804   15.689646   69.115044   53.440708    3.303611   \n",
       "std     33.441772   88.857659   10.222486   22.584888   40.102998    2.262509   \n",
       "min    -54.800000 -175.200000  -12.290000    4.000000    0.000000    0.050000   \n",
       "25%     -8.112000  -65.019200    8.000000   58.000000    8.000000    1.640000   \n",
       "50%     21.346900   18.944900   16.730000   75.000000   63.000000    2.770000   \n",
       "75%     47.128100   92.900000   25.000000   87.000000   96.000000    4.340000   \n",
       "max     78.218600  178.416700   33.000000  100.000000  100.000000   14.630000   \n",
       "\n",
       "               Date  \n",
       "count  5.650000e+02  \n",
       "mean   1.619230e+09  \n",
       "std    1.209943e+02  \n",
       "min    1.619229e+09  \n",
       "25%    1.619230e+09  \n",
       "50%    1.619230e+09  \n",
       "75%    1.619230e+09  \n",
       "max    1.619230e+09  "
      ]
     },
     "execution_count": 9,
     "metadata": {},
     "output_type": "execute_result"
    }
   ],
   "source": [
    "df.describe()"
   ]
  },
  {
   "cell_type": "markdown",
   "metadata": {},
   "source": [
    "## Inspect the data and remove the cities where the humidity > 100%.\n",
    "----\n",
    "Skip this step if there are no cities that have humidity > 100%. "
   ]
  },
  {
   "cell_type": "markdown",
   "metadata": {},
   "source": [
    "#### no citiy humidity > 100%"
   ]
  },
  {
   "cell_type": "markdown",
   "metadata": {},
   "source": [
    "## Plotting the Data\n",
    "* Use proper labeling of the plots using plot titles (including date of analysis) and axes labels.\n",
    "* Save the plotted figures as .pngs."
   ]
  },
  {
   "cell_type": "markdown",
   "metadata": {},
   "source": [
    "## Latitude vs. Temperature Plot"
   ]
  },
  {
   "cell_type": "code",
   "execution_count": 10,
   "metadata": {
    "scrolled": true
   },
   "outputs": [
    {
     "data": {
      "image/png": "[encoded data removed]",
      "text/plain": [
       "<Figure size 432x288 with 1 Axes>"
      ]
     },
     "metadata": {
      "needs_background": "light"
     },
     "output_type": "display_data"
    },
    {
     "data": {
      "text/plain": [
       "<Figure size 432x288 with 0 Axes>"
      ]
     },
     "metadata": {},
     "output_type": "display_data"
    }
   ],
   "source": [
    "plt.plot(df['Lat'],df['Max_Temp'],'o',color='lightblue')\n",
    "plt.grid()\n",
    "plt.xlabel('City Latitude')\n",
    "plt.ylabel(\"Max Temperature(C) \")\n",
    "plt.title('City Latitude VS Max Temperature')\n",
    "plt.show()\n",
    "plt.savefig('City Latitude VS Max Temperature.png')"
   ]
  },
  {
   "cell_type": "markdown",
   "metadata": {},
   "source": [
    "Latitude vs Temperature: As Latitude reachs to 0 (closer to the equator), the maximum temperature rises"
   ]
  },
  {
   "cell_type": "markdown",
   "metadata": {},
   "source": [
    "## Latitude vs. Humidity Plot"
   ]
  },
  {
   "cell_type": "code",
   "execution_count": 11,
   "metadata": {},
   "outputs": [
    {
     "data": {
      "image/png": "[encoded data removed]",
      "text/plain": [
       "<Figure size 432x288 with 1 Axes>"
      ]
     },
     "metadata": {
      "needs_background": "light"
     },
     "output_type": "display_data"
    },
    {
     "data": {
      "text/plain": [
       "<Figure size 432x288 with 0 Axes>"
      ]
     },
     "metadata": {},
     "output_type": "display_data"
    }
   ],
   "source": [
    "plt.plot(df['Lat'],df['Humidity'],'8',color='violet')\n",
    "plt.grid()\n",
    "plt.xlabel('City Latitude')\n",
    "plt.ylabel(\"Humidity % \")\n",
    "plt.title('City Latitude vs Humidity')\n",
    "plt.show()\n",
    "plt.savefig('City Latitude vs Humidity.png')"
   ]
  },
  {
   "cell_type": "markdown",
   "metadata": {},
   "source": [
    "The average Humidity is higher around 0 latitude"
   ]
  },
  {
   "cell_type": "markdown",
   "metadata": {},
   "source": [
    "## Latitude vs. Cloudiness Plot"
   ]
  },
  {
   "cell_type": "code",
   "execution_count": 12,
   "metadata": {
    "scrolled": true
   },
   "outputs": [
    {
     "data": {
      "image/png": "[encoded data removed]",
      "text/plain": [
       "<Figure size 432x288 with 1 Axes>"
      ]
     },
     "metadata": {
      "needs_background": "light"
     },
     "output_type": "display_data"
    },
    {
     "data": {
      "text/plain": [
       "<Figure size 432x288 with 0 Axes>"
      ]
     },
     "metadata": {},
     "output_type": "display_data"
    }
   ],
   "source": [
    "plt.plot(df['Lat'],df['Cloudiness'],'.',color='gold')\n",
    "plt.grid()\n",
    "plt.xlabel('City Latitude')\n",
    "plt.ylabel(\"Cloudiness % \")\n",
    "plt.title('City Latitude vs Cloudiness')\n",
    "plt.show()\n",
    "plt.savefig('City Latitude vs Cloudiness.png')"
   ]
  },
  {
   "cell_type": "markdown",
   "metadata": {},
   "source": [
    "Latitude doesn't seem to be affecting Cloudiness"
   ]
  },
  {
   "cell_type": "markdown",
   "metadata": {},
   "source": [
    "## Latitude vs. Wind Speed Plot"
   ]
  },
  {
   "cell_type": "code",
   "execution_count": 13,
   "metadata": {
    "scrolled": true
   },
   "outputs": [
    {
     "data": {
      "image/png": "[encoded data removed]",
      "text/plain": [
       "<Figure size 432x288 with 1 Axes>"
      ]
     },
     "metadata": {
      "needs_background": "light"
     },
     "output_type": "display_data"
    },
    {
     "data": {
      "text/plain": [
       "<Figure size 432x288 with 0 Axes>"
      ]
     },
     "metadata": {},
     "output_type": "display_data"
    }
   ],
   "source": [
    "plt.plot(df['Lat'],df['Wind_Speed'],'D',color='g')\n",
    "plt.grid()\n",
    "plt.xlabel('City Latitude')\n",
    "plt.ylabel(\"Wind Speed (mph) \")\n",
    "plt.title('City Latitude vs Wind Speed')\n",
    "plt.show()\n",
    "plt.savefig('City Latitude vs Wind Speed.png')"
   ]
  },
  {
   "cell_type": "markdown",
   "metadata": {},
   "source": [
    "The wind speed is not well correlated with latitude"
   ]
  },
  {
   "cell_type": "markdown",
   "metadata": {},
   "source": [
    "## Linear Regression"
   ]
  },
  {
   "cell_type": "code",
   "execution_count": 14,
   "metadata": {},
   "outputs": [],
   "source": [
    "south=df.loc[df['Lat']<0]\n",
    "north=df.loc[df['Lat']>=0]"
   ]
  },
  {
   "cell_type": "markdown",
   "metadata": {},
   "source": [
    "####  Northern Hemisphere - Max Temp vs. Latitude Linear Regression"
   ]
  },
  {
   "cell_type": "code",
   "execution_count": 15,
   "metadata": {},
   "outputs": [
    {
     "name": "stdout",
     "output_type": "stream",
     "text": [
      "r-suqared is : 0.81466\n"
     ]
    },
    {
     "data": {
      "image/png": "[encoded data removed]",
      "text/plain": [
       "<Figure size 432x288 with 1 Axes>"
      ]
     },
     "metadata": {
      "needs_background": "light"
     },
     "output_type": "display_data"
    },
    {
     "data": {
      "text/plain": [
       "<Figure size 432x288 with 0 Axes>"
      ]
     },
     "metadata": {},
     "output_type": "display_data"
    }
   ],
   "source": [
    "x=north['Lat']\n",
    "y=north['Max_Temp']\n",
    "reg=linregress(x,y)\n",
    "print(f'r-suqared is : {reg.rvalue**2:.5f}')\n",
    "plt.plot(x,y,'.',color='y')\n",
    "plt.plot(x,reg.slope*x+reg.intercept,'c')\n",
    "plt.annotate('y= '+str(round(reg.slope,2))+'x+ '+str(round(reg.intercept,2)),(0,-10),fontsize=20,c='r')\n",
    "plt.xlabel('Latitude')\n",
    "plt.ylabel(\"Max Temp\")\n",
    "plt.show()\n",
    "plt.savefig('Northern Hemispher Max Temp')"
   ]
  },
  {
   "cell_type": "markdown",
   "metadata": {},
   "source": [
    "####  Southern Hemisphere - Max Temp vs. Latitude Linear Regression"
   ]
  },
  {
   "cell_type": "code",
   "execution_count": 16,
   "metadata": {},
   "outputs": [
    {
     "name": "stdout",
     "output_type": "stream",
     "text": [
      "r-suqared is : 0.47359\n"
     ]
    },
    {
     "data": {
      "image/png": "[encoded data removed]",
      "text/plain": [
       "<Figure size 432x288 with 1 Axes>"
      ]
     },
     "metadata": {
      "needs_background": "light"
     },
     "output_type": "display_data"
    },
    {
     "data": {
      "text/plain": [
       "<Figure size 432x288 with 0 Axes>"
      ]
     },
     "metadata": {},
     "output_type": "display_data"
    }
   ],
   "source": [
    "x=south['Lat']\n",
    "y=south['Max_Temp']\n",
    "reg=linregress(x,y)\n",
    "print(f'r-suqared is : {reg.rvalue**2:.5f}')\n",
    "plt.plot(x,y,'.',color='y')\n",
    "plt.plot(x,reg.slope*x+reg.intercept,'c')\n",
    "plt.annotate('y= '+str(round(reg.slope,2))+'x+ '+str(round(reg.intercept,2)),(-50,30),fontsize=20,c='r')\n",
    "plt.xlabel('Latitude')\n",
    "plt.ylabel(\"Max Temp\")\n",
    "plt.show()\n",
    "plt.savefig('Southern Hemispher Max Temp')"
   ]
  },
  {
   "cell_type": "markdown",
   "metadata": {},
   "source": [
    "####  Northern Hemisphere - Humidity (%) vs. Latitude Linear Regression"
   ]
  },
  {
   "cell_type": "code",
   "execution_count": 17,
   "metadata": {},
   "outputs": [
    {
     "name": "stdout",
     "output_type": "stream",
     "text": [
      "r-suqared is : 0.01357\n"
     ]
    },
    {
     "data": {
      "image/png": "[encoded data removed]",
      "text/plain": [
       "<Figure size 432x288 with 1 Axes>"
      ]
     },
     "metadata": {
      "needs_background": "light"
     },
     "output_type": "display_data"
    },
    {
     "data": {
      "text/plain": [
       "<Figure size 432x288 with 0 Axes>"
      ]
     },
     "metadata": {},
     "output_type": "display_data"
    }
   ],
   "source": [
    "x=north['Lat']\n",
    "y=north['Humidity']\n",
    "reg=linregress(x,y)\n",
    "print(f'r-suqared is : {reg.rvalue**2:.5f}')\n",
    "plt.plot(x,y,'.',color='y')\n",
    "plt.plot(x,reg.slope*x+reg.intercept,'c')\n",
    "plt.annotate('y= '+str(round(reg.slope,2))+'x+ '+str(round(reg.intercept,2)),(0,20),fontsize=20,c='r')\n",
    "plt.xlabel('Latitude')\n",
    "plt.ylabel(\"Humidity %\")\n",
    "plt.show()\n",
    "plt.savefig('Northern Hemispher Humidity')"
   ]
  },
  {
   "cell_type": "markdown",
   "metadata": {},
   "source": [
    "####  Southern Hemisphere - Humidity (%) vs. Latitude Linear Regression"
   ]
  },
  {
   "cell_type": "code",
   "execution_count": 18,
   "metadata": {},
   "outputs": [
    {
     "name": "stdout",
     "output_type": "stream",
     "text": [
      "r-suqared is : 0.01936\n"
     ]
    },
    {
     "data": {
      "image/png": "[encoded data removed]",
      "text/plain": [
       "<Figure size 432x288 with 1 Axes>"
      ]
     },
     "metadata": {
      "needs_background": "light"
     },
     "output_type": "display_data"
    },
    {
     "data": {
      "text/plain": [
       "<Figure size 432x288 with 0 Axes>"
      ]
     },
     "metadata": {},
     "output_type": "display_data"
    }
   ],
   "source": [
    "x=south['Lat']\n",
    "y=south['Humidity']\n",
    "reg=linregress(x,y)\n",
    "print(f'r-suqared is : {reg.rvalue**2:.5f}')\n",
    "plt.plot(x,y,'.',color='y')\n",
    "plt.plot(x,reg.slope*x+reg.intercept,'c')\n",
    "plt.annotate('y= '+str(round(reg.slope,2))+'x+ '+str(round(reg.intercept,2)),(-50,30),fontsize=20,c='r')\n",
    "plt.xlabel('Latitude')\n",
    "plt.ylabel(\"Humidity %\")\n",
    "plt.show()\n",
    "plt.savefig('Southern Hemispher Humidity')"
   ]
  },
  {
   "cell_type": "markdown",
   "metadata": {},
   "source": [
    "####  Northern Hemisphere - Cloudiness (%) vs. Latitude Linear Regression"
   ]
  },
  {
   "cell_type": "code",
   "execution_count": 19,
   "metadata": {},
   "outputs": [
    {
     "name": "stdout",
     "output_type": "stream",
     "text": [
      "r-suqared is : 0.03020\n"
     ]
    },
    {
     "data": {
      "image/png": "[encoded data removed]",
      "text/plain": [
       "<Figure size 432x288 with 1 Axes>"
      ]
     },
     "metadata": {
      "needs_background": "light"
     },
     "output_type": "display_data"
    },
    {
     "data": {
      "text/plain": [
       "<Figure size 432x288 with 0 Axes>"
      ]
     },
     "metadata": {},
     "output_type": "display_data"
    }
   ],
   "source": [
    "x=north['Lat']\n",
    "y=north['Cloudiness']\n",
    "reg=linregress(x,y)\n",
    "print(f'r-suqared is : {reg.rvalue**2:.5f}')\n",
    "plt.plot(x,y,'.',color='y')\n",
    "plt.plot(x,reg.slope*x+reg.intercept,'c')\n",
    "plt.annotate('y= '+str(round(reg.slope,2))+'x+ '+str(round(reg.intercept,2)),(0,10),fontsize=20,c='r')\n",
    "plt.xlabel('Latitude')\n",
    "plt.ylabel(\"Cloudiness %\")\n",
    "plt.show()\n",
    "plt.savefig('Northern Hemispher Cloudiness')"
   ]
  },
  {
   "cell_type": "markdown",
   "metadata": {},
   "source": [
    "####  Southern Hemisphere - Cloudiness (%) vs. Latitude Linear Regression"
   ]
  },
  {
   "cell_type": "code",
   "execution_count": 20,
   "metadata": {},
   "outputs": [
    {
     "name": "stdout",
     "output_type": "stream",
     "text": [
      "r-suqared is : 0.00133\n"
     ]
    },
    {
     "data": {
      "image/png": "[encoded data removed]",
      "text/plain": [
       "<Figure size 432x288 with 1 Axes>"
      ]
     },
     "metadata": {
      "needs_background": "light"
     },
     "output_type": "display_data"
    },
    {
     "data": {
      "text/plain": [
       "<Figure size 432x288 with 0 Axes>"
      ]
     },
     "metadata": {},
     "output_type": "display_data"
    }
   ],
   "source": [
    "x=south['Lat']\n",
    "y=south['Cloudiness']\n",
    "reg=linregress(x,y)\n",
    "print(f'r-suqared is : {reg.rvalue**2:.5f}')\n",
    "plt.plot(x,y,'.',color='y')\n",
    "plt.plot(x,reg.slope*x+reg.intercept,'c')\n",
    "plt.annotate('y= '+str(round(reg.slope,2))+'x+ '+str(round(reg.intercept,2)),(-50,20),fontsize=20,c='r')\n",
    "plt.xlabel('Latitude')\n",
    "plt.ylabel(\"Cloudiness %\")\n",
    "plt.show()\n",
    "plt.savefig('Southern Hemispher Cloudiness')"
   ]
  },
  {
   "cell_type": "markdown",
   "metadata": {},
   "source": [
    "####  Northern Hemisphere - Wind Speed (mph) vs. Latitude Linear Regression"
   ]
  },
  {
   "cell_type": "code",
   "execution_count": 21,
   "metadata": {},
   "outputs": [
    {
     "name": "stdout",
     "output_type": "stream",
     "text": [
      "r-suqared is : 0.00799\n"
     ]
    },
    {
     "data": {
      "image/png": "[encoded data removed]",
      "text/plain": [
       "<Figure size 432x288 with 1 Axes>"
      ]
     },
     "metadata": {
      "needs_background": "light"
     },
     "output_type": "display_data"
    },
    {
     "data": {
      "text/plain": [
       "<Figure size 432x288 with 0 Axes>"
      ]
     },
     "metadata": {},
     "output_type": "display_data"
    }
   ],
   "source": [
    "x=north['Lat']\n",
    "y=north['Wind_Speed']\n",
    "reg=linregress(x,y)\n",
    "print(f'r-suqared is : {reg.rvalue**2:.5f}')\n",
    "plt.plot(x,y,'.',color='y')\n",
    "plt.plot(x,reg.slope*x+reg.intercept,'c')\n",
    "plt.annotate('y= '+str(round(reg.slope,2))+'x+ '+str(round(reg.intercept,2)),(0,10),fontsize=20,c='r')\n",
    "plt.xlabel('Latitude')\n",
    "plt.ylabel(\"Wind Speed mph\")\n",
    "plt.show()\n",
    "plt.savefig('Northern Hemispher Wind Speed')"
   ]
  },
  {
   "cell_type": "markdown",
   "metadata": {},
   "source": [
    "####  Southern Hemisphere - Wind Speed (mph) vs. Latitude Linear Regression"
   ]
  },
  {
   "cell_type": "code",
   "execution_count": 22,
   "metadata": {
    "scrolled": true
   },
   "outputs": [
    {
     "name": "stdout",
     "output_type": "stream",
     "text": [
      "r-suqared is : 0.03520\n"
     ]
    },
    {
     "data": {
      "image/png": "[encoded data removed]",
      "text/plain": [
       "<Figure size 432x288 with 1 Axes>"
      ]
     },
     "metadata": {
      "needs_background": "light"
     },
     "output_type": "display_data"
    },
    {
     "data": {
      "text/plain": [
       "<Figure size 432x288 with 0 Axes>"
      ]
     },
     "metadata": {},
     "output_type": "display_data"
    }
   ],
   "source": [
    "x=south['Lat']\n",
    "y=south['Wind_Speed']\n",
    "reg=linregress(x,y)\n",
    "print(f'r-suqared is : {reg.rvalue**2:.5f}')\n",
    "plt.plot(x,y,'.',color='y')\n",
    "plt.plot(x,reg.slope*x+reg.intercept,'c')\n",
    "plt.annotate('y= '+str(round(reg.slope,2))+'x+ '+str(round(reg.intercept,2)),(-50,6),fontsize=20,c='r')\n",
    "plt.xlabel('Latitude')\n",
    "plt.ylabel(\"Wind Speed mph\")\n",
    "plt.show()\n",
    "plt.savefig('Southern Hemispher Wind Speed')"
   ]
  },
  {
   "cell_type": "code",
   "execution_count": 23,
   "metadata": {},
   "outputs": [
    {
     "name": "stdout",
     "output_type": "stream",
     "text": [
      "There are 382 cities in northern hemisphere, and 183 cities in southern hemisphere for this dataset\n"
     ]
    }
   ],
   "source": [
    "print(f'There are {north.shape[0]} cities in northern hemisphere, and {south.shape[0]} cities in southern hemisphere for this dataset')"
   ]
  },
  {
   "cell_type": "markdown",
   "metadata": {},
   "source": [
    " ### Analysis\n",
    " 1. As latitude approaches 0 from both northern and southern hamsphere, the temperature rises. With an r value of 0.54 & 0.78, the correlation is moderate to significant. \n",
    " 2. The correlation of Latitude vs wind speed, cloudiness, and humidity is insignificant, the r values are all below 0.05.\n",
    " 3. There are more data from the northern hemisphere because there are more land mass, and the randomly generated latitude/longitude combo is more likely to be a city.\n"
   ]
  },
  {
   "cell_type": "code",
   "execution_count": null,
   "metadata": {},
   "outputs": [],
   "source": []
  }
 ],
 "metadata": {
  "anaconda-cloud": {},
  "kernel_info": {
   "name": "python3"
  },
  "kernelspec": {
   "display_name": "Python 3",
   "language": "python",
   "name": "python3"
  },
  "language_info": {
   "codemirror_mode": {
    "name": "ipython",
    "version": 3
   },
   "file_extension": ".py",
   "mimetype": "text/x-python",
   "name": "python",
   "nbconvert_exporter": "python",
   "pygments_lexer": "ipython3",
   "version": "3.8.5"
  },
  "latex_envs": {
   "LaTeX_envs_menu_present": true,
   "autoclose": false,
   "autocomplete": true,
   "bibliofile": "biblio.bib",
   "cite_by": "apalike",
   "current_citInitial": 1,
   "eqLabelWithNumbers": true,
   "eqNumInitial": 1,
   "hotkeys": {
    "equation": "Ctrl-E",
    "itemize": "Ctrl-I"
   },
   "labels_anchors": false,
   "latex_user_defs": false,
   "report_style_numbering": false,
   "user_envs_cfg": false
  },
  "nteract": {
   "version": "0.12.3"
  }
 },
 "nbformat": 4,
 "nbformat_minor": 2
}
